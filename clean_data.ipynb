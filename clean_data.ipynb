{
 "cells": [
  {
   "cell_type": "code",
   "execution_count": null,
   "metadata": {},
   "outputs": [],
   "source": [
    "import pandas as pd\n",
    "import matplotlib.pyplot as plt\n",
    "import os"
   ]
  },
  {
   "cell_type": "code",
   "execution_count": null,
   "metadata": {},
   "outputs": [],
   "source": [
    "files = os.listdir('./Data/')"
   ]
  },
  {
   "cell_type": "markdown",
   "metadata": {},
   "source": [
    "This loop processes each file in the 'files' list. For each file, it reads the data into a DataFrame and performs several transformations:\n",
    "- Converts the 'TIME' column to datetime format.\n",
    "- Drops unnecessary columns.\n",
    "- Groups the DataFrame by 'TIME' and sums the other columns.\n",
    "- Calculates bike usage as the negative difference in 'AVAILABLE BIKES', replacing negative values with 0 and filling any missing values with 0.\n",
    "- Resamples the DataFrame to daily frequency, sums the other columns, and appends the result to the 'df_mean' DataFrame.\n",
    "The end result is a DataFrame ('df_mean') that contains daily bike usage data, aggregated from all files in the 'files' list."
   ]
  },
  {
   "cell_type": "code",
   "execution_count": null,
   "metadata": {},
   "outputs": [],
   "source": [
    "df_mean = pd.DataFrame(columns = ['TIME','BIKE STANDS','AVAILABLE BIKE STANDS','AVAILABLE BIKES'])\n",
    "for file in files:\n",
    "    df = pd.read_csv(f\"./Data/{file}\")\n",
    "    df['TIME'] = pd.to_datetime(df['TIME'])\n",
    "    df.drop(['LAST UPDATED','NAME','STATUS','STATION ID',\n",
    "            'ADDRESS','LATITUDE','LONGITUDE'], axis=1, inplace=True)\n",
    "    df = df.sort_values(by=['TIME'])\n",
    "\n",
    "    df = df.groupby('TIME').sum().reset_index()\n",
    "    df['BIKE USAGE'] =  -df['AVAILABLE BIKES'].diff()\n",
    "    df['BIKE USAGE'] = df['BIKE USAGE'].apply(lambda x: 0 if x < 0 else x)\n",
    "    df['BIKE USAGE'].fillna(0, inplace=True)\n",
    "    df_mean = pd.concat([df_mean,df.resample('D',on='TIME').sum().reset_index()]\n",
    "                         ,ignore_index=True)"
   ]
  },
  {
   "cell_type": "code",
   "execution_count": null,
   "metadata": {},
   "outputs": [],
   "source": [
    "df_mean.to_csv('UsageByDayClean.csv', index=False,encoding='utf-8')"
   ]
  },
  {
   "cell_type": "markdown",
   "metadata": {},
   "source": [
    "this next cell was used to create different files for daily, weekly, monthly, and quarterly aggregations but\n",
    "only the daily aggregations really ended up being used. I simply changed the resample to get those different files and below it is set to create the daily aggregation file."
   ]
  },
  {
   "cell_type": "code",
   "execution_count": null,
   "metadata": {},
   "outputs": [],
   "source": [
    "df = pd.read_csv('./UsageByDayClean.csv')\n",
    "df['TIME'] = pd.to_datetime(df['TIME'])\n",
    "# here the data is resampled to days and the sum of the bike usage is taken\n",
    "df = df.resample('D',on='TIME').sum().reset_index()\n",
    "# set all days with no recorded data to NA to then drop from df\n",
    "df = df.replace(0,pd.NA)\n",
    "df = df.dropna()\n",
    "df.set_index('TIME',inplace=True)"
   ]
  },
  {
   "cell_type": "markdown",
   "metadata": {},
   "source": [
    "this next block was used to calculate the average bike usage per week/month/quarter \n",
    "this was because there were missing days in the data"
   ]
  },
  {
   "cell_type": "code",
   "execution_count": null,
   "metadata": {},
   "outputs": [],
   "source": [
    "count_days_recorded = df.resample('D',on='TIME').count()\n",
    "count_days_recorded.replace(0,1,inplace=True)\n",
    "count_days_recorded.to_csv('dayCount.csv')\n",
    "# avg bike usage column was created to have the total usage per period and the average usage per period\n",
    "# this is to normalize the periods with missing days of recorded data\n",
    "df['AVG BIKE USAGE'] = df['BIKE USAGE'] / count_days_recorded['BIKE USAGE']"
   ]
  },
  {
   "cell_type": "code",
   "execution_count": null,
   "metadata": {},
   "outputs": [],
   "source": [
    "df.to_csv('monthlyAvg.csv')"
   ]
  },
  {
   "cell_type": "code",
   "execution_count": null,
   "metadata": {},
   "outputs": [],
   "source": [
    "# simple plot to show the change in bike usage over time\n",
    "df = df.groupby('TIME').sum()\n",
    "df['AVG BIKE USAGE'].plot(kind='line')\n",
    "plt.title('Daily change in bike usage')\n",
    "plt.xlabel('Date')\n",
    "plt.ylabel('Median of Available Bikes')\n",
    "plt.show()"
   ]
  }
 ],
 "metadata": {
  "kernelspec": {
   "display_name": "venv",
   "language": "python",
   "name": "python3"
  },
  "language_info": {
   "codemirror_mode": {
    "name": "ipython",
    "version": 3
   },
   "file_extension": ".py",
   "mimetype": "text/x-python",
   "name": "python",
   "nbconvert_exporter": "python",
   "pygments_lexer": "ipython3",
   "version": "3.10.5"
  }
 },
 "nbformat": 4,
 "nbformat_minor": 2
}
